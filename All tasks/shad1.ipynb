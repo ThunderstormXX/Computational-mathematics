{
 "cells": [
  {
   "cell_type": "code",
   "execution_count": 48,
   "metadata": {},
   "outputs": [],
   "source": [
    "## Оптимизировать бесполезную хуйню"
   ]
  },
  {
   "cell_type": "code",
   "execution_count": 46,
   "metadata": {},
   "outputs": [],
   "source": [
    "def Foo(a):\n",
    "    result = 0  \n",
    "    a.sort()                     \n",
    "    while len(a) > 2:             \n",
    "      n = len(a)  \n",
    "      x = a[0] + a[n - 2]  \n",
    "      result =result + x                 \n",
    "      a.pop(n-2)              \n",
    "      a.pop(0)                \n",
    "      l = len(a)-1\n",
    "      while(x < a[l]):\n",
    "        l = l - 1\n",
    "      a.insert(l+1 ,x)\n",
    "    while(len(a) > 0):\n",
    "        result = result + a[0] \n",
    "        a.pop(0)           \n",
    "    return result "
   ]
  },
  {
   "cell_type": "code",
   "execution_count": 47,
   "metadata": {},
   "outputs": [
    {
     "name": "stdout",
     "output_type": "stream",
     "text": [
      "53\n"
     ]
    }
   ],
   "source": [
    "\n",
    "n = int(input())\n",
    "lst = input()\n",
    "a=[]\n",
    "lst = lst.split(\" \")\n",
    "for i in lst :\n",
    "    a.append(int(i))\n",
    "print(Foo(a))"
   ]
  },
  {
   "cell_type": "code",
   "execution_count": 43,
   "metadata": {},
   "outputs": [
    {
     "name": "stdout",
     "output_type": "stream",
     "text": [
      "[1, 2, 3, 4, 5, 5.4]\n"
     ]
    }
   ],
   "source": [
    "a = [1,2,3,4,5]\n",
    "c = 5.4\n",
    "l = len(a)-1\n",
    "while(c < a[l]):\n",
    "    l = l - 1\n",
    "a.insert(l+1 ,c)\n",
    "\n",
    "print(a)"
   ]
  },
  {
   "cell_type": "code",
   "execution_count": null,
   "metadata": {},
   "outputs": [],
   "source": []
  }
 ],
 "metadata": {
  "kernelspec": {
   "display_name": "Python 3.8.0 64-bit",
   "language": "python",
   "name": "python3"
  },
  "language_info": {
   "codemirror_mode": {
    "name": "ipython",
    "version": 3
   },
   "file_extension": ".py",
   "mimetype": "text/x-python",
   "name": "python",
   "nbconvert_exporter": "python",
   "pygments_lexer": "ipython3",
   "version": "3.8.0"
  },
  "orig_nbformat": 4,
  "vscode": {
   "interpreter": {
    "hash": "6a926afa313b26ae1264fdcf81c726a97e69f6ba2ba780f6aa901948710f8d6e"
   }
  }
 },
 "nbformat": 4,
 "nbformat_minor": 2
}
