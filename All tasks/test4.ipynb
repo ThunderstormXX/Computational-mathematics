{
 "cells": [
  {
   "cell_type": "markdown",
   "metadata": {},
   "source": [
    "#### Применим сначал иттерационный метод : сжимающие отображения , приблизив до точности 0.001 , после применим метод Ньютона\n",
    "#### Уравнение : $(0.5)^x + 1 = (x - 1)^2 $\n",
    "#### Приведем к функции : f(x) = 0.5^x - (x-1)^2 + 1 = 0\n",
    "#### Производная : f'(x) = ln(0.5)0.5^x -2x  + 2\n",
    "#### Но перед этим всем применим сжимающие отображения , приведя уравнение к виду : x = 1 + $\\sqrt{1+1/2^x}$"
   ]
  },
  {
   "cell_type": "code",
   "execution_count": 1,
   "metadata": {},
   "outputs": [],
   "source": [
    "import numpy as np\n",
    "import matplotlib.pyplot as plt\n",
    "\n",
    "%matplotlib inline\n",
    "plt.rc('font', **{'size' : 22})"
   ]
  },
  {
   "cell_type": "markdown",
   "metadata": {},
   "source": [
    "Оценим число простых иттераций : будем делать сжимающие отображения - оценим константу липшица - найдем производную на отрезке [2,3]\n",
    "Функция , выбранная для сжимающего отобраения будет ниже . Макс значение производной на [2,3] : "
   ]
  },
  {
   "cell_type": "code",
   "execution_count": 2,
   "metadata": {},
   "outputs": [
    {
     "name": "stdout",
     "output_type": "stream",
     "text": [
      "0.07749621070721792\n",
      "0.00046541610001903544\n"
     ]
    }
   ],
   "source": [
    "q =np.log(2)/(8*np.sqrt(1+1/4))\n",
    "print(q)\n",
    "#Число иттераций для точности 0.001 :\n",
    "print(q**3) # искомое число - 3"
   ]
  },
  {
   "cell_type": "code",
   "execution_count": 19,
   "metadata": {},
   "outputs": [],
   "source": [
    "#Compressive mapping\n",
    "def f(x) :\n",
    "    return 1 + np.sqrt(1+1/np.power(2,x))\n",
    "def MPI(x):\n",
    "    for i in range(3):\n",
    "        x = f(x)\n",
    "    return x "
   ]
  },
  {
   "cell_type": "code",
   "execution_count": 20,
   "metadata": {},
   "outputs": [
    {
     "name": "stdout",
     "output_type": "stream",
     "text": [
      "2.109852646937469\n",
      "check solve eq:  1.2316706764954846  =  1.2317728979141063\n"
     ]
    }
   ],
   "source": [
    "x = MPI(2)\n",
    "print(x)\n",
    "print(\"check solve eq: \" , np.power(0.5,x) + 1 , \" = \" , (x-1)**2 )"
   ]
  },
  {
   "cell_type": "markdown",
   "metadata": {},
   "source": [
    "#### Далее применим метод ньютона к начальному значению х корня :"
   ]
  },
  {
   "cell_type": "code",
   "execution_count": 21,
   "metadata": {},
   "outputs": [],
   "source": [
    "def f(x):\n",
    "    return np.power(0.5,x) + 1.0 - (x-1.0)**2\n",
    "def diff(x):\n",
    "    return 2.0 - 2.0*x - np.log(2.0)*np.power(0.5,x)\n",
    "\n",
    "def Newton(x):\n",
    "    y = x + 1 \n",
    "    count = 0\n",
    "    while(count < 3):\n",
    "        y = x\n",
    "        x = x - f(x)/diff(x)\n",
    "        # print(x-y)\n",
    "        count =count +  1\n",
    "    return x\n"
   ]
  },
  {
   "cell_type": "code",
   "execution_count": 22,
   "metadata": {},
   "outputs": [
    {
     "name": "stdout",
     "output_type": "stream",
     "text": [
      "-0.0001022214186217063 2.109852646937469 После МПИ,до ньютона\n",
      "0.0 2.1098097012115935 После Ньютона , причем ответ перестал меняться уже на 2-3 иттерации\n"
     ]
    }
   ],
   "source": [
    "print(f(x),x ,\"После МПИ,до ньютона\")\n",
    "x = Newton(x)\n",
    "print(f(x) ,x ,\"После Ньютона , причем ответ перестал меняться уже на 2-3 иттерации\")"
   ]
  },
  {
   "cell_type": "code",
   "execution_count": null,
   "metadata": {},
   "outputs": [],
   "source": []
  }
 ],
 "metadata": {
  "kernelspec": {
   "display_name": "Python 3.8.0 64-bit",
   "language": "python",
   "name": "python3"
  },
  "language_info": {
   "codemirror_mode": {
    "name": "ipython",
    "version": 3
   },
   "file_extension": ".py",
   "mimetype": "text/x-python",
   "name": "python",
   "nbconvert_exporter": "python",
   "pygments_lexer": "ipython3",
   "version": "3.8.0"
  },
  "orig_nbformat": 4,
  "vscode": {
   "interpreter": {
    "hash": "6a926afa313b26ae1264fdcf81c726a97e69f6ba2ba780f6aa901948710f8d6e"
   }
  }
 },
 "nbformat": 4,
 "nbformat_minor": 2
}
