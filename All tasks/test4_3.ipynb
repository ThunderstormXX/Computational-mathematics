{
 "cells": [
  {
   "cell_type": "markdown",
   "metadata": {},
   "source": [
    "Вычислить с точностью $10^{-3}$ решение нелин системы уравнений : \\\n",
    "    1) $cos(x - 1) + y =0.5 $ \\\n",
    "    2) $x - cos(y) = 3 $\\\n",
    "\n",
    "в Десмосе заметим ,что решение находится в $\\Omega = [2 , 4]X[0 , 2] $\\\n",
    "Построим МПИ : Ньютона "
   ]
  },
  {
   "cell_type": "code",
   "execution_count": 3,
   "metadata": {},
   "outputs": [],
   "source": [
    "import numpy as np\n",
    "import matplotlib.pyplot as plt\n",
    "\n",
    "%matplotlib inline\n",
    "plt.rc('font', **{'size' : 22})"
   ]
  },
  {
   "cell_type": "code",
   "execution_count": 3,
   "metadata": {},
   "outputs": [],
   "source": [
    "def F(r):\n",
    "    x_k = np.cos(r[0] - 1) + r[1] - 0.5\n",
    "    y_k = r[0] - np.cos(r[1]) - 3\n",
    "    return np.array([x_k,y_k])\n",
    "def J_invert(r):\n",
    "    J = np.array([\n",
    "        [-np.sin(r[0]-1), 1],\n",
    "        [1,np.sin(r[1])]])\n",
    "    return np.linalg.inv(J)\n",
    "def Newton(r, N):\n",
    "    for i in range(N):\n",
    "        r = r + J_invert(r)@F(r)\n",
    "    return r"
   ]
  },
  {
   "cell_type": "code",
   "execution_count": 12,
   "metadata": {},
   "outputs": [
    {
     "name": "stdout",
     "output_type": "stream",
     "text": [
      "[-4.08462705 -9.85602241]\n"
     ]
    }
   ],
   "source": [
    "r_0 = np.array([3.35,1.20])\n",
    "print(Newton(r_0,10))\n",
    "\n"
   ]
  },
  {
   "cell_type": "markdown",
   "metadata": {},
   "source": [
    "Не сходится , попробуем другую систему : \\\n",
    "    1) $x - arccos(0.5 - y) - 1 = 0 $ \\\n",
    "    2) $arccos(x - 3)  - y = 0  $"
   ]
  },
  {
   "cell_type": "code",
   "execution_count": 6,
   "metadata": {},
   "outputs": [],
   "source": [
    "def F(r):\n",
    "    x_k = r[0] - np.arccos(0.5 - r[1]) - 1.0\n",
    "    y_k = np.arccos(r[0]-3) - r[1]\n",
    "    return np.array([x_k,y_k])\n",
    "def J_invert(r):\n",
    "    J = np.array([\n",
    "            [ 1.0 , -1.0/np.sqrt(1 - (0.5 - r[1])**2)],\n",
    "            [ -1.0/np.sqrt( 1 - (r[0]-3.0)**2) , -1.0] \n",
    "        ])\n",
    "    return np.linalg.inv(J)\n",
    "def Newton(r, N):\n",
    "    for i in range(N):\n",
    "        r = r + J_invert(r)@F(r)\n",
    "    return r"
   ]
  },
  {
   "cell_type": "code",
   "execution_count": 18,
   "metadata": {},
   "outputs": [
    {
     "name": "stdout",
     "output_type": "stream",
     "text": [
      "[ 2.01909322 -0.77470525]\n"
     ]
    }
   ],
   "source": [
    "r = np.array([3.35,1.20])\n",
    "print(Newton(r_0,8))\n",
    "# print(F(r))\n",
    "# print(J_invert(r))\n",
    "# print(J_invert(r)@F(r))"
   ]
  },
  {
   "cell_type": "markdown",
   "metadata": {},
   "source": [
    "Опять не сошлось \\\n",
    "Пожалуй решим обычным МПИ :\\\\\n",
    "1) $x = cos(y) + 3 $\\\n",
    "2) $y = 0.5 -cos(x-1) $"
   ]
  },
  {
   "cell_type": "code",
   "execution_count": 19,
   "metadata": {},
   "outputs": [],
   "source": [
    "\n",
    "def f(r):\n",
    "    x_k = np.cos(r[1]) + 3\n",
    "    y_k = 0.5 - np.cos( r[0] - 1)\n",
    "    return np.array([x_k,y_k])\n",
    "def MPI(r, N):\n",
    "    for i in range(N):\n",
    "        r = f(r)\n",
    "    return r"
   ]
  },
  {
   "cell_type": "code",
   "execution_count": 27,
   "metadata": {},
   "outputs": [
    {
     "name": "stdout",
     "output_type": "stream",
     "text": [
      "[3.35591174 1.20690682]\n"
     ]
    }
   ],
   "source": [
    "r = np.array([3.0,2.0])\n",
    "print(MPI(r,1000))"
   ]
  },
  {
   "cell_type": "markdown",
   "metadata": {},
   "source": [
    "Наконецто сошлось : Найдем q = || J ||"
   ]
  },
  {
   "cell_type": "code",
   "execution_count": 29,
   "metadata": {},
   "outputs": [
    {
     "name": "stdout",
     "output_type": "stream",
     "text": [
      "[[ 0.         -0.90929743]\n",
      " [ 0.90929743  0.        ]]\n",
      "q =  0.9092974268256817\n"
     ]
    }
   ],
   "source": [
    "J = np.array([[0,-np.sin(r[1])],[np.sin(r[0]-1) , 0]])\n",
    "print(J)\n",
    "print(\"q = \" ,np.linalg.norm(J ,ord = 1))"
   ]
  },
  {
   "cell_type": "code",
   "execution_count": null,
   "metadata": {},
   "outputs": [],
   "source": []
  }
 ],
 "metadata": {
  "kernelspec": {
   "display_name": "Python 3.8.0 64-bit",
   "language": "python",
   "name": "python3"
  },
  "language_info": {
   "codemirror_mode": {
    "name": "ipython",
    "version": 3
   },
   "file_extension": ".py",
   "mimetype": "text/x-python",
   "name": "python",
   "nbconvert_exporter": "python",
   "pygments_lexer": "ipython3",
   "version": "3.8.0"
  },
  "orig_nbformat": 4,
  "vscode": {
   "interpreter": {
    "hash": "6a926afa313b26ae1264fdcf81c726a97e69f6ba2ba780f6aa901948710f8d6e"
   }
  }
 },
 "nbformat": 4,
 "nbformat_minor": 2
}
