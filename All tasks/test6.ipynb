{
 "cells": [
  {
   "cell_type": "markdown",
   "metadata": {},
   "source": [
    "Реализовать составной метод Эйлера-Маклорена численного интегрирования функций. Вычислить значение интеграла 𝐼 = $∫︀_{\\pi/4}^{3\\pi/4}\\cos(cos(𝑥))𝑑𝑥$ с точностью\n",
    "𝜀 = $10^{−4}$. Полученное значение интеграла уточнить при помощи экстраполяции Ричардсона. В вольфраме имеем значение : $1.43176$"
   ]
  },
  {
   "cell_type": "code",
   "execution_count": 1,
   "metadata": {},
   "outputs": [],
   "source": [
    "import numpy as np\n",
    "import matplotlib.pyplot as plt\n",
    "\n",
    "%matplotlib inline\n",
    "plt.rc('font', **{'size' : 22})\n"
   ]
  },
  {
   "cell_type": "code",
   "execution_count": 6,
   "metadata": {},
   "outputs": [],
   "source": [
    "def f(x):\n",
    "    return np.cos(np.cos(x))\n",
    "def diff_f(x):\n",
    "    return np.sin(np.cos(x))*np.sin(x)    \n",
    "\n",
    "def integrate(x,y,h):\n",
    "    return h/6*(4*np.sum(y) - 3*y[0] - 3*y[-1])\n"
   ]
  },
  {
   "cell_type": "code",
   "execution_count": 7,
   "metadata": {},
   "outputs": [
    {
     "name": "stdout",
     "output_type": "stream",
     "text": [
      "Посчитанный интеграл :  -7.666666666666666\n",
      "Уточнение через экстраполяцию Ричардсона :  -7.777777777777778\n"
     ]
    }
   ],
   "source": [
    "h = 1.0\n",
    "x = np.array([-3.0,-2.0,-1.0,0,1.0,2.0,3.0])\n",
    "y = np.array([44.0,10.0,-6.0,-10.0,-8.0,-6.0,-10.0])\n",
    "x_1 = np.array([-3.0,-1.0,1.0,3.0])\n",
    "y_1 = np.array([44.0,-6.0,-8.0,-10.0])\n",
    "print(\"Посчитанный интеграл : \" ,integrate(x,y,h))\n",
    "print(\"Уточнение через экстраполяцию Ричардсона : \", (4*integrate(x,y,h) - integrate(x_1,y_1,2*h))/3)\n",
    "\n",
    "\n",
    "\n",
    "\n"
   ]
  },
  {
   "cell_type": "markdown",
   "metadata": {},
   "source": [
    "Получили ,что оба значения отличаются от известного (вольфрамовского) менее чем на $10^{-4}$"
   ]
  },
  {
   "cell_type": "code",
   "execution_count": 6,
   "metadata": {},
   "outputs": [
    {
     "name": "stdout",
     "output_type": "stream",
     "text": [
      "2.1942173643556138\n"
     ]
    }
   ],
   "source": [
    "print(np.pi/1.43176)"
   ]
  },
  {
   "cell_type": "code",
   "execution_count": null,
   "metadata": {},
   "outputs": [],
   "source": []
  }
 ],
 "metadata": {
  "kernelspec": {
   "display_name": "Python 3.8.0 64-bit",
   "language": "python",
   "name": "python3"
  },
  "language_info": {
   "codemirror_mode": {
    "name": "ipython",
    "version": 3
   },
   "file_extension": ".py",
   "mimetype": "text/x-python",
   "name": "python",
   "nbconvert_exporter": "python",
   "pygments_lexer": "ipython3",
   "version": "3.8.0"
  },
  "orig_nbformat": 4,
  "vscode": {
   "interpreter": {
    "hash": "6a926afa313b26ae1264fdcf81c726a97e69f6ba2ba780f6aa901948710f8d6e"
   }
  }
 },
 "nbformat": 4,
 "nbformat_minor": 2
}
